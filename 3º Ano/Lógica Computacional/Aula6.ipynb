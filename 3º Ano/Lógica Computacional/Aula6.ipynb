{
  "nbformat": 4,
  "nbformat_minor": 0,
  "metadata": {
    "kernelspec": {
      "display_name": "Python 3",
      "language": "python",
      "name": "python3"
    },
    "language_info": {
      "codemirror_mode": {
        "name": "ipython",
        "version": 3
      },
      "file_extension": ".py",
      "mimetype": "text/x-python",
      "name": "python",
      "nbconvert_exporter": "python",
      "pygments_lexer": "ipython3",
      "version": "3.7.3"
    },
    "colab": {
      "name": "Aula6.ipynb",
      "provenance": [],
      "collapsed_sections": []
    }
  },
  "cells": [
    {
      "cell_type": "markdown",
      "metadata": {
        "id": "UqLU0IeuTGUH"
      },
      "source": [
        "# *Bounded Model Checking*\n",
        "\n",
        "Nesta aula vamos estudar *model checking*, uma das técnicas mais utilizadas para verificação automática de propriedades de sistemas dinâmicos (sistemas caracterizados por um estado que evolui ao longo do tempo). O *model checking* tem por objectivo verificar automaticamente se uma propriedade (tipicamente especificada numa lógica temporal) é válida num modelo do sistema (tipicamente formalizado como um sistema de transição). Mais concretamente vamos estudar uma técnica de *bounded model checking*, onde o objectivo é verificar se uma propriedade é válida considerando apenas um dado número máximo de estados da execução do sistema.\n",
        "\n",
        "Vamos usar como SMT solver o popular solver Z3, através da biblioteca Python  Z3Py."
      ]
    },
    {
      "cell_type": "markdown",
      "metadata": {
        "id": "ju4i1-tSDbDx"
      },
      "source": [
        "## Brevíssima introdução à utilização do Z3 em Python\n",
        "\n",
        "Começamos por instalar o Z3."
      ]
    },
    {
      "cell_type": "code",
      "metadata": {
        "id": "-lqqyKLJDs_y",
        "colab": {
          "base_uri": "https://localhost:8080/"
        },
        "outputId": "b38c094f-e0fa-4093-aee5-ff386c706cf6"
      },
      "source": [
        "!pip install z3-solver"
      ],
      "execution_count": null,
      "outputs": [
        {
          "output_type": "stream",
          "name": "stdout",
          "text": [
            "Collecting z3-solver\n",
            "  Downloading z3_solver-4.8.12.0-py2.py3-none-manylinux1_x86_64.whl (33.0 MB)\n",
            "\u001b[K     |████████████████████████████████| 33.0 MB 16 kB/s \n",
            "\u001b[?25hInstalling collected packages: z3-solver\n",
            "Successfully installed z3-solver-4.8.12.0\n"
          ]
        }
      ]
    },
    {
      "cell_type": "markdown",
      "metadata": {
        "id": "A04wM2db2u6T"
      },
      "source": [
        "A documentação do Z3py pode ser encontrada em https://ericpony.github.io/z3py-tutorial/guide-examples.htm.\n",
        "\n",
        "A utilização desta biblioteca segue normalmente os seguintes passos:\n",
        "\n",
        "1. Importar a biblioteca do Z3 usando o comando `from z3 import *`\n",
        "1. Criar uma instância do solver com a função `Solver()`.\n",
        "1. Adicionar as variáveis do problema. As funções `Int()`, `Real()`, `Bool()` criam uma variável no Z3 do tipo correspondente. Estas funções recebem o nome da variável como parâmetro.\n",
        "1. Adicionar as restrições do problema usando o método `add`. A restrição é definida com a sintaxe normal Python para expressões aritméticas e comparações.  As funções `And`, `Or`, `Not` e `Implies` são usadas como os operadores lógicos.\n",
        "\n",
        "1. Invocar o solver com o método `check`. Este método pode devolver um dos seguintes resultados:\n",
        "  - `sat`, quando o conjunto de restrições é satisfazível, isto é, quando uma solução for encontrada.\n",
        "  - `unsat`, quando não é possível resolver o problema, isto é, quando o conjunto de restrições é inconsistente.\n",
        "  - `unknown`, quando o solver não se consegue pronunciar quanto satisfatibilidade do conjunto de restrições.\n",
        "\n",
        "1. Interpretar os resultados no caso do resultado ser `sat`. O método `model` dá o modelo produzido pelo solver (o modelo associa a cada variável o valor que lhe foi atribuido na solução encontrada).\n",
        "Podemos consultar o modelo gerado. O método `decls` devolve as variáveis atribuídas no modelo. O método `name` devolve o nome de uma variável atribuída no modelo. O método `eval` permite avaliar uma expressão no modelo. \n",
        "Deve ser usado o método `as_long` para converter os valores inteiros do Z3 em inteiros do Python. \n",
        "\n"
      ]
    },
    {
      "cell_type": "markdown",
      "metadata": {
        "id": "7jVgXBb_rtg-"
      },
      "source": [
        "Por exemplo, o programa que se segue tenta encontrar solução para as seguintes restrições:\n",
        "\n",
        "$$\n",
        "\\left\\{\n",
        "\\begin{array}{l}\n",
        "0 \\le x \\le 50\\\\\n",
        "y \\ge x+z \\\\\n",
        "z-5y > x \\vee 3x+y \\le 20\n",
        "\\end{array}\n",
        "\\right.\n",
        "$$\n"
      ]
    },
    {
      "cell_type": "code",
      "metadata": {
        "id": "U9FvKszS3gui",
        "colab": {
          "base_uri": "https://localhost:8080/"
        },
        "outputId": "5e4bc764-255e-4ebc-87ad-f840f4180a1f"
      },
      "source": [
        "from z3 import *\n",
        "\n",
        "s = Solver()\n",
        "x, y = Ints('x y')\n",
        "z = Int('z')\n",
        "s.add(And(0<=x,x<=50))\n",
        "s.add(y >= x+z)\n",
        "s.add(Or([z-5*y>x, 3*x+y<=20]))\n",
        "\n",
        "if s.check()==sat :\n",
        "    m = s.model()\n",
        "    print(m)\n",
        "    for d in m.decls():\n",
        "        print(\"%s = %d\" % (d.name(), m[d].as_long()))\n",
        "else: \n",
        "    print(\"Não tem solução.\")"
      ],
      "execution_count": null,
      "outputs": [
        {
          "output_type": "stream",
          "name": "stdout",
          "text": [
            "[x = 50, z = -175, y = -125]\n",
            "x = 50\n",
            "z = -175\n",
            "y = -125\n"
          ]
        }
      ]
    },
    {
      "cell_type": "markdown",
      "metadata": {
        "id": "HvSqi-xHTGUN"
      },
      "source": [
        "## *First-order Transition Systems* (FOTS)\n",
        "\n",
        "FOTS são modelos de sistemas dinâmicos que são determinados por um espaço de estados, uma relação de transição de estados e um conjunto de estados iniciais. Nos FOTS o conjunto de estados iniciais é descrito por um predicado unário (*init*) sobre o vector de variáveis associado ao espaço de estados, e a relação de transição é descrita por um predicado binário (*trans*) sobre dois vectores de variáveis que representam o estado antes e depois da transição."
      ]
    },
    {
      "cell_type": "markdown",
      "metadata": {
        "id": "BuJbOTLATGUN"
      },
      "source": [
        "### Modelação de programas com FOTS\n",
        "\n",
        "Um programa pode ser modelado por um FOTS da seguinte forma:\n",
        "- O estado é constituído pelas variáveis do programa mais uma variável para o respectivo *program counter*\n",
        "- Os estados iniciais são caracterizados implicitamente por um predicado sobre as variáveis de estado\n",
        "- As transições são caracterizadas implicitamente por um predicado sobre pares de estados\n",
        "\n",
        "Considere, por exemplo o programa seguinte, anotado com uma pré-condição que restringe o valor inicial de $x$:\n",
        "\n",
        "```Python\n",
        "{ x >= 3 }\n",
        "0: while (x>0):\n",
        "1:    x = x-1\n",
        "2: stop\n",
        "```\n",
        "\n",
        "Neste caso o estado do FOTS respectivo será um par de inteiros, o primeiro contendo o valor do $\\mathit{pc}$ (o *program counter* que neste caso pode ser 0, 1 ou 2) e o segundo o valor da variável $x$. O estado inicial é caracterizado pelo seguinte predicado:\n",
        "\n",
        "$$\n",
        "\\mathit{pc} = 0 \\wedge x \\ge 3\n",
        "$$\n",
        "\n",
        "As transições possíveis no FOTS são caracterizadas pelo seguinte predicado:\n",
        "\n",
        "$$\n",
        "\\begin{array}{c}\n",
        "(\\mathit{pc} = 0 \\wedge x > 0 \\wedge \\mathit{pc}' = 1 \\wedge x' = x)\\\\\n",
        "\\vee\\\\\n",
        "(\\mathit{pc} = 0 \\wedge x \\le 0 \\wedge \\mathit{pc}' = 2 \\wedge x' = x) \\\\\n",
        "\\vee\\\\\n",
        "(\\mathit{pc} = 1 \\wedge \\mathit{pc}' = 0 \\wedge x' = x - 1) \\\\\n",
        "\\vee\\\\\n",
        "(\\mathit{pc} = 2 \\wedge \\mathit{pc}' = 2 \\wedge x' = x)\n",
        "\\end{array}\n",
        "$$\n",
        "\n",
        "Note que este predicado é uma disjunção de todas as possíveis transições que podem ocorrer no programa. Cada transição é caracterizada por um predicado onde uma variável do programa denota o seu valor no pré-estado e a mesma variável com apóstrofe denota o seu valor no pós-estado. É usual exigir que cada estado do FOTS tenha pelo menos um sucessor, pelo que o estado final do programa é caracterizado por uma transição para ele próprio (um lacete).\n",
        "\n",
        "Usando estes predicados podemos usar um SMT solver (nomeadamente o Z3) para, por exemplo, gerar uma possível execução de $k\\!-\\!1$ passos do programa (em que $k>0$). Para tal precisamos de criar $k$ cópias das variáveis que caracterizam o estado do FOTS e depois impor que a primeira cópia satisfaz o predicado inicial e que cada par de cópias consecutivas satisfazem o predicado de transição.\n",
        "\n",
        "A seguinte função cria a $i$-ésima cópia das variáveis de estado, agrupadas num dicionário que nos permite aceder às mesmas pelo nome."
      ]
    },
    {
      "cell_type": "code",
      "metadata": {
        "id": "LVPq3HTNTGUO"
      },
      "source": [
        "def declare(i):\n",
        "    state = {}\n",
        "    state['pc'] = Int('pc_'+str(i))\n",
        "    state['x'] = Int('x_'+str(i))\n",
        "    return state"
      ],
      "execution_count": null,
      "outputs": []
    },
    {
      "cell_type": "markdown",
      "metadata": {
        "id": "dl3FgSJtTGUQ"
      },
      "source": [
        "### Exercício 1\n",
        "\n",
        "Defina a função `init` que, dado um possível estado do programa (um dicionário de variáveis), devolva um predicado Z3 que testa se esse estado é um possível estado inicial do programa."
      ]
    },
    {
      "cell_type": "code",
      "metadata": {
        "id": "PZ4dnt1VTGUR"
      },
      "source": [
        "def init(state):\n",
        "    # completar\n",
        "    return And(state['pc'] == 0, state['x'] >= 3)"
      ],
      "execution_count": null,
      "outputs": []
    },
    {
      "cell_type": "markdown",
      "metadata": {
        "id": "nhFyExLWTGUR"
      },
      "source": [
        "### Exercício 2\n",
        "\n",
        "Defina a função `trans` que, dados dois possíveis estados do programa, devolva um predicado Z3 que testa se é possível transitar do primeiro para o segundo."
      ]
    },
    {
      "cell_type": "code",
      "metadata": {
        "id": "8F3Q9hScTGUR"
      },
      "source": [
        "def trans(curr,prox):\n",
        "  t0_1 = And(curr['pc'] == 0, curr['x'] > 0, prox['pc'] == 1, prox['x'] == curr['x'])\n",
        "  t0_2 = And(curr['pc'] == 0, curr['x'] <= 0, prox['pc'] == 2, prox['x'] == curr['x'])\n",
        "  t1_0 = And(curr['pc'] == 1, prox['pc'] == 0, prox['x'] == curr['x'] - 1)\n",
        "  t2_2 = And(curr['pc'] == 2, prox['pc'] == 2, prox['x'] == curr['x'])\n",
        "  return Or(t0_1, t0_2, t1_0, t2_2)\n"
      ],
      "execution_count": null,
      "outputs": []
    },
    {
      "cell_type": "markdown",
      "metadata": {
        "id": "H43N7v42TGUS"
      },
      "source": [
        "### Exercício 3\n",
        "\n",
        "Complete a função de ordem superior `gera_traco` que, dada uma função que gera uma cópia das variáveis do estado, um predicado que testa se um estado é inicial, um predicado que testa se um par de estados é uma transição válida, e um número positivo `k`, use o Z3 para gerar um possível traço de execução do programa de tamanho `k`. Para cada estado do traço deverá imprimir o respectivo valor das variáveis."
      ]
    },
    {
      "cell_type": "code",
      "metadata": {
        "id": "f6bVg4XXTGUS",
        "colab": {
          "base_uri": "https://localhost:8080/",
          "height": 34
        },
        "outputId": "65c67410-4633-4962-b439-baf0b263823c"
      },
      "source": [
        "def gera_traco(declare,init,trans,k):\n",
        "    s = Solver()\n",
        "    traco = [declare(i) for i in range(k)]\n",
        "    s.add(init(traco[0]))\n",
        "    for i in range(k-1):\n",
        "      s.add(trans(traco[i], traco[i+1]))\n",
        "\n",
        "    if s.check() == sat:\n",
        "      m = s.model()\n",
        "      return m\n",
        "    \n",
        "                \n",
        "gera_traco(declare,init,trans,10)"
      ],
      "execution_count": null,
      "outputs": [
        {
          "output_type": "execute_result",
          "data": {
            "text/html": [
              "[x_7 = 2,\n",
              " pc_5 = 1,\n",
              " pc_3 = 1,\n",
              " x_1 = 5,\n",
              " x_6 = 2,\n",
              " pc_6 = 0,\n",
              " pc_4 = 0,\n",
              " pc_1 = 1,\n",
              " x_8 = 1,\n",
              " x_4 = 3,\n",
              " x_3 = 4,\n",
              " x_2 = 4,\n",
              " pc_2 = 0,\n",
              " pc_9 = 1,\n",
              " x_5 = 3,\n",
              " x_9 = 1,\n",
              " pc_7 = 1,\n",
              " pc_8 = 0,\n",
              " x_0 = 5,\n",
              " pc_0 = 0]"
            ],
            "text/plain": [
              "[x_7 = 2,\n",
              " pc_5 = 1,\n",
              " pc_3 = 1,\n",
              " x_1 = 5,\n",
              " x_6 = 2,\n",
              " pc_6 = 0,\n",
              " pc_4 = 0,\n",
              " pc_1 = 1,\n",
              " x_8 = 1,\n",
              " x_4 = 3,\n",
              " x_3 = 4,\n",
              " x_2 = 4,\n",
              " pc_2 = 0,\n",
              " pc_9 = 1,\n",
              " x_5 = 3,\n",
              " x_9 = 1,\n",
              " pc_7 = 1,\n",
              " pc_8 = 0,\n",
              " x_0 = 5,\n",
              " pc_0 = 0]"
            ]
          },
          "metadata": {},
          "execution_count": 12
        }
      ]
    },
    {
      "cell_type": "markdown",
      "metadata": {
        "id": "ytDfWWjgTGUT"
      },
      "source": [
        "## Lógica temporal linear (LTL)\n",
        "\n",
        "Sobre este FOTS podemos querer verificar várias propriedades temporais, como por exemplo:\n",
        "1. $x$ é sempre positivo\n",
        "2. $x$ é sempre diferente de 1\n",
        "3. $x$ chega inevitavelmente a 0\n",
        "4. $x$ chega inevitavelmente a um valor negativo\n",
        "5. o programa termina\n",
        "\n",
        "Estas propriedades são de natureza muito diferente. As duas primeiras são *propriedades de segurança* (*safety*) que, em geral, garantem que \"nada de mau irá acontecer\". Neste caso em particular são invariantes, ou seja, propriedades que devem ser verdade em todos os estados da execução do programa. As três últimas são *propriedades de animação* (*liveness*) que, em geral, garantem que \"algo de bom irá acontecer\".\n",
        "\n",
        "A lógica LTL introduz *operadores temporais* que nos permitem escrever estas propriedades formalmente. Os operadores mais conhecidos são o $G$, que informalmente significa \"*é sempre verdade que*\", e o $F$, que informalmente significa \"*é inevitável que*\". Com estes operadores, as propriedades acima podem ser especificadas formalmente do seguinte modo\n",
        "1. $G\\ (x \\ge 0)$\n",
        "2. $G\\ (x \\neq 1)$\n",
        "3. $F\\ (x = 0)$\n",
        "4. $F\\ (x < 0)$\n",
        "5. $F\\ (pc = 2)$\n",
        "\n",
        "## *Bounded Model Checking* (BMC) para LTL\n",
        "\n",
        "Como é óbvio, nem todas estas propriedades são válidas. Em particular a 2ª e a 4ª não o são. O objectivo da verificação é precisamente determinar se uma propriedade temporal é válida num FOTS ou não. Este procedimento designa-se *model checking* e, quando uma propriedade não é válida, produz um contra-exemplo (um traço do FOTS correspondente a uma execução do programa onde a propriedade falha). Nesta aula vamos estudar uma técnica particular de *model checking* designada *bounded model checking*, onde o objectivo é determinar se uma propriedade temporal é válida nos primeiros $K$ estados da execução do FOTS.\n",
        "\n",
        "A ideia passa por usar um SMT solver (neste caso o Z3) para tentar descobrir um contra-exemplo para uma dada propriedade. Para simplificar vamos abordar apenas dois casos: verificação de invariantes da forma $G\\ \\phi$ e propriedades de animação simples da forma $F\\ \\phi$, em que $\\phi$ é uma fórmula sem operadores temporais.\n",
        "\n",
        "### BMC de invariantes\n",
        "\n",
        "Para fazer BMC de um invariante, por exemplo $G\\ (x \\ge 0)$ basta-nos usar o Z3 para encontrar um contra-exemplo com no máximo $K$ estados onde a propriedade $(x \\ge 0)$ seja inválida nalgum estado. Para tal podemos implementar um procedimento iterativo que tenta encontrar esse contra-exemplo com tamanhos crescentes, começando com tamanho 1 até ao tamanho máximo $K$. Para cada tamanho $0 < k \\le K$ basta tentar encontrar um possível traço onde o invariante a verificar seja inválido no último estado. Para tal podemos usar um código muito semelhante ao da função `gera_traco`. O procedimento é interrompido mal um contra-exemplo seja encontrado, sendo garantido que esse é um contra-exemplo mínimo para essa propriedade."
      ]
    },
    {
      "cell_type": "markdown",
      "metadata": {
        "id": "DtlOV8enTGUU"
      },
      "source": [
        "### Exercício 4\n",
        "\n",
        "Complete a definição da função de ordem superior `bmc_always` que, dada uma função que gera uma cópia das variáveis do estado, um predicado que testa se um estado é inicial, um predicado que testa se um par de estados é uma transição válida, um invariante a verificar, e um número positivo `K`, use o Z3 para verificar se esse invariante é sempre válido nos primeiros `K-1` passos de execução do programa, ou devolva um contra-exemplo mínimo caso não seja."
      ]
    },
    {
      "cell_type": "code",
      "metadata": {
        "id": "wC2Vsh54TGUV",
        "colab": {
          "base_uri": "https://localhost:8080/",
          "height": 36
        },
        "outputId": "351a50f8-e2d1-4dcf-b84a-4dbaa12058a4"
      },
      "source": [
        "def bmc_always(declare,init,trans,inv,K):\n",
        "    for k in range(1,K+1):\n",
        "        s = Solver()\n",
        "        traco = [declare(i) for i in range(k)]\n",
        "        s.add(init(traco[0]))\n",
        "        for i in range(k-1):\n",
        "          s.add(trans(traco[i], traco[i+1]))\n",
        "          \n",
        "        s.add(Not(inv(traco[k-1])))\n",
        "\n",
        "        if s.check() == sat:\n",
        "          return s.model()\n",
        "    return \"A propriedade é válida para traços de tamanho até \" + str(K)\n",
        "    \n",
        "        \n",
        "def positive(state):\n",
        "    return (state['x'] >= 0)\n",
        "\n",
        "bmc_always(declare,init,trans,positive,20)"
      ],
      "execution_count": null,
      "outputs": [
        {
          "output_type": "execute_result",
          "data": {
            "application/vnd.google.colaboratory.intrinsic+json": {
              "type": "string"
            },
            "text/plain": [
              "'A propriedade é válida para traços de tamanho até 20'"
            ]
          },
          "metadata": {},
          "execution_count": 21
        }
      ]
    },
    {
      "cell_type": "markdown",
      "metadata": {
        "id": "wslkjoYpTGUW"
      },
      "source": [
        "### Exercício 5\n",
        "\n",
        "Use o procedimento `bmc_always` para encontrar um contra-exemplo para a segunda propriedade especificada acima."
      ]
    },
    {
      "cell_type": "code",
      "metadata": {
        "id": "GrpLVknVTGUW",
        "colab": {
          "base_uri": "https://localhost:8080/"
        },
        "outputId": "69d2785f-3da0-4d52-8bee-d1937377487f"
      },
      "source": [
        "# completar\n",
        "def notone(state):\n",
        "  return (state['x'] != 1)\n",
        "\n",
        "print(bmc_always(declare, init, trans, notone, 2))\n",
        "print(bmc_always(declare, init, trans, notone, 20))"
      ],
      "execution_count": null,
      "outputs": [
        {
          "output_type": "stream",
          "name": "stdout",
          "text": [
            "A propriedade é válida para traços de tamanho até 2\n",
            "[pc_2 = 0,\n",
            " x_3 = 2,\n",
            " pc_1 = 1,\n",
            " x_2 = 2,\n",
            " pc_4 = 0,\n",
            " pc_3 = 1,\n",
            " x_1 = 3,\n",
            " x_4 = 1,\n",
            " x_0 = 3,\n",
            " pc_0 = 0]\n"
          ]
        }
      ]
    },
    {
      "cell_type": "markdown",
      "metadata": {
        "id": "vR0Epco4TGUX"
      },
      "source": [
        "### BMC de propriedades de animação\n",
        "\n",
        "Para fazer BMC de propriedades de animação da forma $F\\ \\phi$ o prodimento é ligeiramente mais complicado. Neste caso não basta encontrar um traço aberto com no máximo $K$ estados onde $\\phi$ nunca seja válida, pois tal contra-exemplo não seria convincente: nada garante que $\\phi$ não pudesse ser válida num ponto mais tarde da execução. Neste caso, o contra-exemplo teria que ser uma execução completa do programa que demonstre inequivocamente que a propriedade não é válida. É possível encontrar uma execução completa do programa com no máximo $K$ estados se a mesma tiver um *loop* no último estado, mais concretamente, uma transição para um dos estados precedentes. "
      ]
    },
    {
      "cell_type": "markdown",
      "metadata": {
        "id": "3kHk9FDkTGUX"
      },
      "source": [
        "### Exercício 6\n",
        "\n",
        "Complete a definição da função de ordem superior `bmc_eventually` que, dada uma função que gera uma cópia das variáveis do estado, um predicado que testa se um estado é inicial, um predicado que testa se um par de estados é uma transição válida, uma propriedade cuja inevitabilidade se pretende verificar, e um número positivo `K`, use o Z3 para encontrar um contra-exemplo para essa propriedade considerando apenas os primeiros `K` estados de execução do programa. Note que neste caso um contra-exemplo tem que ser necessariamente um *loop* (no sentido acima referido) onde a propriedade desejada nunca seja válida."
      ]
    },
    {
      "cell_type": "code",
      "metadata": {
        "id": "1wyINvR9TGUY",
        "colab": {
          "base_uri": "https://localhost:8080/"
        },
        "outputId": "419f0943-4af3-4d90-9b56-4ee05b5f5612"
      },
      "source": [
        "def bmc_eventually(declare,init,trans,prop,K):\n",
        "    for k in range(1,K+1):\n",
        "        s = Solver()\n",
        "        traco = [declare(i) for i in range(k)]\n",
        "        s.add(init(traco[0]))\n",
        "        for i in range(k-1):\n",
        "          s.add(trans(traco[i], traco[i+1]))\n",
        "\n",
        "        s.add(Or([trans(traco[k-1], traco[i]) for i in range(k)]))\n",
        "        for i in range(k):\n",
        "          s.add(Not(prop(traco[i])))\n",
        "\n",
        "        if s.check() == sat:\n",
        "          return s.model()\n",
        "    return \"A propriedade é válida para traços de tamanho até \" + str(K)\n",
        "\n",
        "def zero(state):\n",
        "    return (state['x'] == 0)\n",
        "\n",
        "print(bmc_eventually(declare,init,trans,zero,20))\n",
        "\n",
        "def terminates(state):\n",
        "    return (state['pc'] == 2)\n",
        "\n",
        "print(bmc_eventually(declare,init,trans,terminates,20))"
      ],
      "execution_count": null,
      "outputs": [
        {
          "output_type": "stream",
          "name": "stdout",
          "text": [
            "A propriedade é válida para traços de tamanho até 20\n",
            "A propriedade é válida para traços de tamanho até 20\n"
          ]
        }
      ]
    },
    {
      "cell_type": "markdown",
      "metadata": {
        "id": "2QmsfKbyTGUZ"
      },
      "source": [
        "### Exercício 7\n",
        "\n",
        "Modifique a função `bmc_eventually` para não só imprimir os estados do contra-exemplo, mas também o estado onde começa o *loop*. Sugere-se a utilização da função `eval` do Z3 para detectar esse estado. Utilize esta função modificada para encontrar um contra exemplo para a quarta propriedade acima referida."
      ]
    },
    {
      "cell_type": "code",
      "metadata": {
        "id": "JljMLd17TGUZ"
      },
      "source": [
        "def bmc_eventually(declare,init,trans,prop,bound):\n",
        "    for k in range(1,bound+1):\n",
        "        s = Solver()\n",
        "        # completar\n",
        "        \n",
        "    \n",
        "def negative(state):\n",
        "    return (state['x'] < 0)\n",
        "\n",
        "bmc_eventually(declare,init,trans,negative,10)"
      ],
      "execution_count": null,
      "outputs": []
    }
  ]
}