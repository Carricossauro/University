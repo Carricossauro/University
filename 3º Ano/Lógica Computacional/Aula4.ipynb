{
  "nbformat": 4,
  "nbformat_minor": 0,
  "metadata": {
    "kernelspec": {
      "display_name": "Python 3",
      "language": "python",
      "name": "python3"
    },
    "language_info": {
      "codemirror_mode": {
        "name": "ipython",
        "version": 3
      },
      "file_extension": ".py",
      "mimetype": "text/x-python",
      "name": "python",
      "nbconvert_exporter": "python",
      "pygments_lexer": "ipython3",
      "version": "3.8.8"
    },
    "colab": {
      "name": "Aula4.ipynb",
      "provenance": [],
      "collapsed_sections": []
    }
  },
  "cells": [
    {
      "cell_type": "markdown",
      "metadata": {
        "id": "jXEvHTsLGxFS"
      },
      "source": [
        "# Problemas de incidência\n",
        "\n",
        "Uma versão particular dos problemas de alocação são os *problemas de incidência*. Genericamente estes problemas estão ligados aos conjuntos que é possível  formar com os elementos de um dado universo finito.\n",
        "\n",
        "É frequente usar nestes problemas uma matriz binária $A$ com a seguinte semântica:\n",
        "\n",
        "> $A_{i,j} = 1 \\quad$ se e só se $\\quad$ o elemento $i$ do universo está contido no conjunto $j$.\n",
        "\n",
        "Estas matrizes chamam-se *matrizes de incidência* e daí resulta o nome genérico para estes problemas.\n",
        "\n",
        "Mais uma vez usaremos a biblioteca [OR-Tools](https://developers.google.com/optimization) para fazer a interface para o SCIP. Esta biblioteca pode ser instalada com o commando `pip install ortools`."
      ]
    },
    {
      "cell_type": "code",
      "metadata": {
        "id": "lSEr_wWbcKJC",
        "colab": {
          "base_uri": "https://localhost:8080/",
          "height": 529
        },
        "outputId": "726dbbf7-8abe-43c1-a43c-357545126b04"
      },
      "source": [
        "!pip install ortools"
      ],
      "execution_count": 1,
      "outputs": [
        {
          "output_type": "stream",
          "name": "stdout",
          "text": [
            "Collecting ortools\n",
            "  Downloading ortools-9.1.9490-cp37-cp37m-manylinux_2_17_x86_64.manylinux2014_x86_64.whl (14.5 MB)\n",
            "\u001b[K     |████████████████████████████████| 14.5 MB 92 kB/s \n",
            "\u001b[?25hCollecting protobuf>=3.18.0\n",
            "  Downloading protobuf-3.19.0-cp37-cp37m-manylinux_2_17_x86_64.manylinux2014_x86_64.whl (1.1 MB)\n",
            "\u001b[K     |████████████████████████████████| 1.1 MB 48.0 MB/s \n",
            "\u001b[?25hCollecting absl-py>=0.13\n",
            "  Downloading absl_py-0.15.0-py3-none-any.whl (132 kB)\n",
            "\u001b[K     |████████████████████████████████| 132 kB 60.4 MB/s \n",
            "\u001b[?25hRequirement already satisfied: six in /usr/local/lib/python3.7/dist-packages (from absl-py>=0.13->ortools) (1.15.0)\n",
            "Installing collected packages: protobuf, absl-py, ortools\n",
            "  Attempting uninstall: protobuf\n",
            "    Found existing installation: protobuf 3.17.3\n",
            "    Uninstalling protobuf-3.17.3:\n",
            "      Successfully uninstalled protobuf-3.17.3\n",
            "  Attempting uninstall: absl-py\n",
            "    Found existing installation: absl-py 0.12.0\n",
            "    Uninstalling absl-py-0.12.0:\n",
            "      Successfully uninstalled absl-py-0.12.0\n",
            "\u001b[31mERROR: pip's dependency resolver does not currently take into account all the packages that are installed. This behaviour is the source of the following dependency conflicts.\n",
            "tensorflow-metadata 1.2.0 requires absl-py<0.13,>=0.9, but you have absl-py 0.15.0 which is incompatible.\u001b[0m\n",
            "Successfully installed absl-py-0.15.0 ortools-9.1.9490 protobuf-3.19.0\n"
          ]
        },
        {
          "output_type": "display_data",
          "data": {
            "application/vnd.colab-display-data+json": {
              "pip_warning": {
                "packages": [
                  "google"
                ]
              }
            }
          },
          "metadata": {}
        }
      ]
    },
    {
      "cell_type": "markdown",
      "metadata": {
        "id": "8VXhV4FIGxFX"
      },
      "source": [
        "## Set cover\n",
        "\n",
        "Um dos problemas clássicos das ciências da computação nesta categoria é o problema do *set cover* descrito em https://en.wikipedia.org/wiki/Set_cover_problem.\n",
        "\n",
        "Neste problema, são dados\n",
        "- $U$, o universo de valores\n",
        "- $S$, o conjunto de conjuntos,  cuja união é igual a $U$\n",
        "\n",
        "O objectivo é determinar o menor número de conjuntos de $S$ cuja união é igual a $U$, i.e., a *cobertura mínima* de $U$.\n",
        "\n",
        "### Análise do problema\n",
        "\n",
        "Podemos representar este problema por uma matriz de incidência $A \\in \\{0,1\\}^{|U| \\times |S|}$. Por exemplo, se $U=\\{0,1,2,3,4\\}$ e $S = \\{\\{0,1,2\\},\\{1,3\\},\\{2,3\\},\\{3,4\\}\\}$ temos a seguinte matriz de incidência\n",
        "\n",
        "$$\n",
        "\\begin{array}{c|c|c|c|c}\n",
        "& S_0 & S_1 & S_2 & S_3\\\\\n",
        "\\hline\n",
        "0 & 1 & 0 & 0 & 0\\\\\n",
        "\\hline\n",
        "1 & 1 & 1 & 0 & 0\\\\\n",
        "\\hline\n",
        "2 & 1 & 0 & 1 & 0\\\\\n",
        "\\hline\n",
        "3 & 0 & 1 & 1 & 1\\\\\n",
        "\\hline\n",
        "4 & 0 & 0 & 0 & 1\n",
        "\\end{array}\n",
        "$$\n",
        "\n",
        "Neste exemplo, a cobertura mínima é $S_0 \\cup S_3 = U$.\n",
        "\n",
        "Este problema pode ser resolvido com programação inteira usando uma variável inteira binária $x_j$ para cada conjunto $S_j$, que irá determinar se esse conjunto pertence à cobertura mínima. O objectivo é minimizar $\\sum_j x_j$ obedecendo à seguinte restrição:\n",
        "- Cada elemento de $U$ tem que pertencer a pelo menos um conjunto da cobertura mínima."
      ]
    },
    {
      "cell_type": "markdown",
      "metadata": {
        "id": "O2Tr2X2xGxFY"
      },
      "source": [
        "### Exercício 1\n",
        "Formalize a restrição acima indicada.\n",
        "\n",
        "$$\\forall_{i\\in U} \\sum_{j} A_{i,j} * x_{j} >= 1$$"
      ]
    },
    {
      "cell_type": "markdown",
      "metadata": {
        "id": "60a-Ntn9GxFY"
      },
      "source": [
        "### Exercício 2\n",
        "\n",
        "Usando o SCIP, implemente a função `set_cover` que dada a matriz de incidência (representada como uma lista de colunas) determine quais os conjuntos que pertencem à cobertura mínima. "
      ]
    },
    {
      "cell_type": "code",
      "metadata": {
        "id": "pDO7sayxGxFZ",
        "colab": {
          "base_uri": "https://localhost:8080/"
        },
        "outputId": "926ded09-1052-4ae2-a2c9-57d62f5a200c"
      },
      "source": [
        "from ortools.linear_solver import pywraplp\n",
        "\n",
        "def set_cover(A):\n",
        "    solver = pywraplp.Solver.CreateSolver('SCIP')\n",
        "    U = len(A[0])\n",
        "    S = len(A)\n",
        "\n",
        "    x = {}\n",
        "    for s in range(S):\n",
        "      x[s] = solver.BoolVar('x[%i]' % s)\n",
        "\n",
        "    for i in range(U):\n",
        "      solver.Add(sum([A[j][i] * x[j] for j in range(S)]) >= 1)\n",
        "\n",
        "    solver.Minimize(sum([x[j] for j in range(S)]))\n",
        "    \n",
        "    t = solver.Solve()\n",
        "\n",
        "    if t == pywraplp.Solver.OPTIMAL:\n",
        "      lista = []\n",
        "      for j in range(S):\n",
        "        if round(x[j].solution_value()) == 1:\n",
        "          lista.append(j)\n",
        "\n",
        "      print(\"Sucesso\")\n",
        "      return lista\n",
        "    else:\n",
        "      print(\"Failed\")\n",
        "      return []\n",
        "    \n",
        "            \n",
        "assert set_cover([[1,1,1,0,0],[0,1,0,1,0],[0,0,1,1,0],[0,0,0,1,1]]) == [0,3]"
      ],
      "execution_count": 14,
      "outputs": [
        {
          "output_type": "stream",
          "name": "stdout",
          "text": [
            "Sucesso\n"
          ]
        }
      ]
    },
    {
      "cell_type": "markdown",
      "metadata": {
        "id": "y4hMP7TzGxFZ"
      },
      "source": [
        "## Bin packing\n",
        "\n",
        "Outro problema clássico na categoria dos problemas de incidência, que generaliza o problema anterior, é o problema de empacotamento *bin packing* descrito em https://en.wikipedia.org/wiki/Bin_packing_problem. \n",
        "\n",
        "Neste problema, são dados\n",
        "- $N$, o número de items a empacotar\n",
        "- $C$, a capacidade das contentores onde pretendemos empacotar os items\n",
        "- $W_i$ o peso de cada item $i$, com $0 < W_i \\le C$\n",
        "\n",
        "Pretende-se determinar o número mínimo de contentores necessários para empacotar todos os items (note que, no pior caso, tal será possível com $N$ contentores).\n",
        "\n",
        "Por exemplo, se tivermos\n",
        "- $N = 7$\n",
        "- $C = 10$\n",
        "- $W_0 = 2, W_1 = 5, W_2 = 4, W_3 = 7, W_4 = 1, W_5 = 3, W_6 = 8$\n",
        "\n",
        "o número mínimo de contentores necessários é 3.\n",
        "\n",
        "### Análise do problema\n",
        "\n",
        "Ao contrário do problema anterior, em que a matriz de incidência é dada como input, neste problema pretende-se precisamente descobrir esta matriz, minimizando simultaneamente o número de contentores. Como tal, para resolver este problema com programação inteira iremos usar as seguintes variáveis:\n",
        "\n",
        "- Uma matriz $A$ de variáveis binárias de dimensão $|N| \\times |N|$, onde a variável $A_{i,j}$ determina se o item $i$ é colocado no contentor $j$\n",
        "- Uma variável binária $y_j$ por cada contentor $j$ que determina se esse contentor é utilizado\n",
        "\n",
        "O objectivo é minimizar $\\sum_j y_j$ obedecendo às seguintes restrições:\n",
        "- Cada item tem que ser empacotado num contentor\n",
        "- A capacidade de cada contentor não pode ser excedida"
      ]
    },
    {
      "cell_type": "markdown",
      "metadata": {
        "id": "MR7OxnYxGxFa"
      },
      "source": [
        "### Exercício 3\n",
        "Formalize as duas restrições acima indicadas.\n",
        "\n",
        "$$\\forall_{i}\\quad (\\sum_{j} A_{i,j}) = 1$$\n",
        "\n",
        "$$\\forall_{j}\\quad (\\sum_{i} A_{i,j} * W_{i}) \\leq C*y_{j}$$"
      ]
    },
    {
      "cell_type": "markdown",
      "metadata": {
        "id": "PLnZ1ds1GxFa"
      },
      "source": [
        "### Exercício 4\n",
        "\n",
        "Implemente a função `binpacking` que dada a capacidade dos contentores e uma lista com os pesos dos items a empacotar, determine o número mínimo de contentores necessários para o fazer."
      ]
    },
    {
      "cell_type": "code",
      "metadata": {
        "id": "YnuJ-EuRGxFb"
      },
      "source": [
        "def binpacking(C,W):\n",
        "    solver = pywraplp.Solver.CreateSolver('SCIP')\n",
        "    N = len(W)\n",
        "\n",
        "    A = {}\n",
        "    for i in range(N):\n",
        "      A[i] = {}\n",
        "      for j in range(N):\n",
        "        A[i][j] = solver.BoolVar('A[%i][%i]' % (i,j))\n",
        "\n",
        "    y = {}\n",
        "    for j in range(N):\n",
        "      y[j] = solver.BoolVar('y[%i]' % j)\n",
        "\n",
        "    for i in range(N):\n",
        "      solver.Add(sum([A[i][j] for j in range(N)]) == 1)\n",
        "\n",
        "    for j in range(N):\n",
        "      solver.Add(sum([A[i][j] * W[i] for i in range(N)]) <= C*y[j])\n",
        "\n",
        "    solver.Minimize(sum([y[j] for j in range(N)]))\n",
        "\n",
        "    t = solver.Solve()\n",
        "\n",
        "    if t == pywraplp.Solver.OPTIMAL:\n",
        "      total = 0\n",
        "      for j in range(N):\n",
        "        if round(y[j].solution_value()) == 1:\n",
        "          total+=1\n",
        "      return total\n",
        "    else:\n",
        "      return -1\n",
        "\n",
        "assert binpacking(10,[2,5,4,7,1,3,8]) == 3"
      ],
      "execution_count": 24,
      "outputs": []
    },
    {
      "cell_type": "markdown",
      "metadata": {
        "id": "e6Jieg0AGxFb"
      },
      "source": [
        "### Exercício 5\n",
        "Modifique a sua implementação da função anterior por forma a devolver uma lista com os identificadores dos contentores onde cada item deve ser empacotado."
      ]
    },
    {
      "cell_type": "code",
      "metadata": {
        "id": "2gwZFsKKGxFc",
        "colab": {
          "base_uri": "https://localhost:8080/"
        },
        "outputId": "5737db3b-b63c-47c9-b954-d7f9702f2a3d"
      },
      "source": [
        "def binpacking(C,W):\n",
        "    solver = pywraplp.Solver.CreateSolver('SCIP')\n",
        "    N = len(W)\n",
        "\n",
        "    A = {}\n",
        "    for i in range(N):\n",
        "      A[i] = {}\n",
        "      for j in range(N):\n",
        "        A[i][j] = solver.BoolVar('A[%i][%i]' % (i,j))\n",
        "\n",
        "    y = {}\n",
        "    for j in range(N):\n",
        "      y[j] = solver.BoolVar('y[%i]' % j)\n",
        "\n",
        "    for i in range(N):\n",
        "      solver.Add(sum([A[i][j] for j in range(N)]) == 1)\n",
        "\n",
        "    for j in range(N):\n",
        "      solver.Add(sum([A[i][j] * W[i] for i in range(N)]) <= C*y[j])\n",
        "\n",
        "    solver.Minimize(sum([y[j] for j in range(N)]))\n",
        "\n",
        "    t = solver.Solve()\n",
        "\n",
        "    if t == pywraplp.Solver.OPTIMAL:\n",
        "      total = []\n",
        "      for i in range(N):\n",
        "        for j in range(N):\n",
        "          if round(A[i][j].solution_value()) == 1:\n",
        "            total.append(j)\n",
        "      return total\n",
        "    else:\n",
        "      return -1\n",
        "    \n",
        "    \n",
        "binpacking(10,[2,5,4,7,1,3,8])"
      ],
      "execution_count": 26,
      "outputs": [
        {
          "output_type": "execute_result",
          "data": {
            "text/plain": [
              "[1, 5, 5, 2, 5, 2, 1]"
            ]
          },
          "metadata": {},
          "execution_count": 26
        }
      ]
    },
    {
      "cell_type": "markdown",
      "metadata": {
        "id": "D93WYWnWGxFc"
      },
      "source": [
        "## Knapsack\n",
        "\n",
        "Outro problema clássico de incidência é o *problema da mochila* descrito em https://en.wikipedia.org/wiki/Knapsack_problem.\n",
        "\n",
        "Neste problema, são dados\n",
        "- $N$, o número de items disponíveis\n",
        "- $C$, a capacidade da mochila\n",
        "- $W_i$, o peso de cada item $i$, com $0 < W_i \\le C$\n",
        "- $V_i$ o valor de cada item $i$, com $0 \\le V_i$\n",
        "\n",
        "Pretende-se determinar o valor máximo que pode ser transportado na mochila.\n",
        "\n",
        "Por exemplo, se tivermos uma mochila com capacidade $C = 15$ e 5 items com os seguintes pesos e valores\n",
        "$$\n",
        "\\begin{array}{c|c|c}\n",
        "& W & V\\\\\n",
        "\\hline\n",
        "0 & 12 & 4\\\\\n",
        "1 & 2 & 2\\\\\n",
        "2 & 1 & 2\\\\\n",
        "3 & 1 & 1\\\\\n",
        "4 & 4 & 10\n",
        "\\end{array}\n",
        "$$\n",
        "a melhor solução é empacotar todos os items menos o primeiro, com um valor total de 15."
      ]
    },
    {
      "cell_type": "markdown",
      "metadata": {
        "id": "fI0v2xBhGxFd"
      },
      "source": [
        "### Exercício 6\n",
        "Formalize este problema usando programação inteira.\n",
        "\n",
        "- $x_{i}$ indica se o item *i* vai ser levado ou  não (*BoolVar*)\n",
        "\n",
        "Temos que:\n",
        "\n",
        "- Maximizar $ \\sum_{i} x_{i} * V_{i} $\n",
        "- $ \\sum_{i} x_{i} * W_{i} \\leq C $"
      ]
    },
    {
      "cell_type": "markdown",
      "metadata": {
        "id": "zmm0L-peGxFd"
      },
      "source": [
        "### Exercício 7\n",
        "Implemente a função `knapsack` que dada a capacidade da mochila e uma lista com um par *(peso, valor)* por cada item, determine quais os items a empacotar na mochila e o respectivo valor."
      ]
    },
    {
      "cell_type": "code",
      "metadata": {
        "id": "eocon22yGxFd"
      },
      "source": [
        "def knapsack(C,I):\n",
        "  solver = pywraplp.Solver.CreateSolver('SCIP')\n",
        "  N = len(I)\n",
        "\n",
        "  x = {}\n",
        "  for i in range(N):\n",
        "    x[i] = solver.BoolVar('x[%i]' % i)\n",
        "\n",
        "  solver.Add(sum([x[i] * I[i][0] for i in range(N)]) <= C)\n",
        "\n",
        "  solver.Maximize(sum([x[i] * I[i][1] for i in range(N)]))\n",
        "\n",
        "  t = solver.Solve()\n",
        "\n",
        "  if t == pywraplp.Solver.OPTIMAL:\n",
        "    res = []\n",
        "    for i in range(N):\n",
        "      if round(x[i].solution_value()) == 1:\n",
        "        res.append(i)\n",
        "    return res\n",
        "  else:\n",
        "    return -1\n",
        "    \n",
        "    \n",
        "assert knapsack(15,[(12,4),(2,2),(1,2),(1,1),(4,10)]) == [1,2,3,4]"
      ],
      "execution_count": 27,
      "outputs": []
    }
  ]
}