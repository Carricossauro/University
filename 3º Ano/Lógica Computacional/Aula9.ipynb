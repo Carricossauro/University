{
  "cells": [
    {
      "cell_type": "markdown",
      "metadata": {
        "id": "fjQ1mVSW2-w-"
      },
      "source": [
        "# Verificação formal de programas: a metodologia de Floyd-Hoare.\n",
        "\n",
        "A *verificação formal de programas* tem por objectivo garantir que um programa satisfaz a sua especificação.\n",
        "Uma *especificação* é um modelo dum sistema que contém uma descrição do seu comportamento desejado (\"*o que*\" deve ser implementado, por oposição a \"*como*\"). Um *programa* é uma implementação concreta do sistema.\n",
        "\n",
        "A metodologia de Floyd-Hoare estabelece uma lógica de programas em que as fórmulas são da forma\n",
        "$\\{\\phi\\} S \\{\\psi\\}$, sendo $\\phi$ e $\\psi$ predicados e $S$ um programa. $\\phi$ representa as *pré-condições* (condições que se assumem estarem garantidas quando o programa inicia a sua execução) e $\\psi$ representa as *pós-condições* (condições que têm que ser asseguradas quando o programa termina). Chama-se especificação ao par $(\\phi,\\psi)$ e *triplo de Hoare* à fórmula $\\{\\phi\\} S \\{\\psi\\}$.\n",
        "\n",
        "A verificação formal de programas permite garantir que um programa se comporta de acordo com a sua especificação, seguindo a seguinte estratégia. Numa primeira fase (a *geração de condições de verificação*) transforma-se o programa e a sua especificação numa fórmula lógica, chamada *condição de verificação* (VC), que se for válida garante que o programa satisfaz a especificação. Numa segunda fase é usado um *SMT solver* para determinar a validade da VC (ou encontrar modelos que descrevem um traço do programa que conduz à violação da propriedade).\n",
        "É assim uma técnica de análise estática de programas que permite detectar erros que, eventualmente, só seriam detectados em tempo de execução.\n",
        "\n",
        "\n",
        "Vamos considerar uma linguagem imperativa simples, de variáveis de tipo inteiro, em que um programa não é mais do que uma sequência dos seguintes comandos e anotações:\n",
        "\n",
        "`skip` | `x = e` | `if b then C1 then C2` | `while b do C` | `assume P`| `assert P`\n",
        "\n",
        "A metodologia que vamos aplicar baseia-se na utilização de uma linguagem intermédia, que permita representação do programa e da sua especificação, e a partir da qual é fácil gerar a denotação lógica do programa.\n",
        "Assim, o primeiro passo consiste na tradução do programa e da especificação para essa linguagem intermédia, e o segundo passo na transformação dessa representação do programa numa VC. \n",
        "\n",
        "A noção de *fluxo de programa* é fundamental para a caracterização de programas imperativos e está na base da linguagem intermédia que vamos usar e a que chamaremos *linguagem de fluxos*. \n",
        "Um fluxo é basicamente uma sequência gerada com base nas seguintes construções:\n",
        "`skip` que corresponde à sequência vazia, `;` que acrescenta um comando a um fluxo, e `||` que permite criar um fluxo que corresponde a uma escolha não-determinista.\n",
        "\n",
        "A construção `(Fluxo || Fluxo)` denota escolha não-determinista entre dois fluxos. \n",
        "Tipicamente estes fluxos estão encabeçados por um `assume P` e somente quando `P` for verdadeiro é que esse fluxo está qualificado para execução. \n",
        "Esta construção é usada na tradução da instrução `if b then C1 else C2` que é reescrita da seguinte forma:\n",
        "`(assume b ; C1 || assume (not b) ; C2)`.\n",
        "\n",
        "A tradução da instrução `while b do C` é mais complexa e será analizada mais abaixo.\n",
        "\n",
        "Um triplo de Hoare $\\{\\phi\\} S \\{\\psi\\}$ pode ser representado por:  ${\\sf assume }\\: \\phi\\; ; S \\; ; {\\sf assert } \\:\\psi$.\n",
        "\n",
        "Para a geração das VCs há duas técnicas standard:\n",
        "\n",
        "- *Weakest pre-condition* (WPC): onde, dada a representação do programa e a pós-condição, é gerada a pré-condição mais fraca que é suficiente para garantir que quando o programa termina a pós-condição é assegurada.\n",
        "\n",
        "- *Strongest post-condition* (SPC): onde, dada a representação do programa e a pré-condição, é gerada a pós-condição mais forte que é possível garantir quando o programa termina.\n",
        "\n"
      ]
    },
    {
      "cell_type": "markdown",
      "metadata": {
        "id": "tg517tDQ2-xB"
      },
      "source": [
        "### Weakest pre-condition\n",
        "\n",
        "A denotação `[C]` associa a cada fluxo `C` um predicado que o caracteriza a sua correcção em termos lógicos (a sua VC) segundo a técnica WPC, sendo calculada pelas seguintes regras.\n",
        "\n",
        "$\n",
        "\\begin{array}{l}\n",
        "[{\\sf skip}] = True \\\\\n",
        "[{\\sf assume}\\:\\phi] = True \\\\\n",
        "[{\\sf assert}\\:\\phi] = \\phi \\\\\n",
        "[ x = e ] = True \\\\\n",
        "[(C_1 || C_2)] = [C_1] \\wedge [C_2] \\\\\n",
        "\\\\\n",
        "[{\\sf skip}\\, ; C] = [C] \\\\\n",
        "[{\\sf assume}\\:\\phi\\, ; C] = \\phi \\to [C] \\\\\n",
        "[{\\sf assert}\\:\\phi\\, ; C] = \\phi \\wedge [C] \\\\\n",
        "[ x = e \\, ; C] = [C][e/x] \\\\\n",
        "[(C_1 || C_2)\\, ; C] = [(C_1 ; C) || (C_2 ; C)]\n",
        "\\end{array}\n",
        "$\n"
      ]
    },
    {
      "cell_type": "markdown",
      "source": [
        "Começamos por instalar o Z3."
      ],
      "metadata": {
        "id": "sjej2Fyf9oSr"
      }
    },
    {
      "cell_type": "code",
      "source": [
        "!pip install z3-solver"
      ],
      "metadata": {
        "id": "Vk4DwTb-9rEJ",
        "colab": {
          "base_uri": "https://localhost:8080/"
        },
        "outputId": "137de10d-5fe2-4106-8523-981624fb0021"
      },
      "execution_count": null,
      "outputs": [
        {
          "output_type": "stream",
          "name": "stdout",
          "text": [
            "Collecting z3-solver\n",
            "  Downloading z3_solver-4.8.13.0-py2.py3-none-manylinux1_x86_64.whl (32.9 MB)\n",
            "\u001b[K     |████████████████████████████████| 32.9 MB 41.6 MB/s \n",
            "\u001b[?25hInstalling collected packages: z3-solver\n",
            "Successfully installed z3-solver-4.8.13.0\n"
          ]
        }
      ]
    },
    {
      "cell_type": "markdown",
      "metadata": {
        "id": "CsOeGjm62-xC"
      },
      "source": [
        "### Exercício 1\n",
        "\n",
        "Considere o seguinte programa anotado que faz o *swap* de duas variáveis usando operações aritméticas.\n",
        "```python\n",
        "assume x == a and y == b;\n",
        "x = x + y;\n",
        "y = x - y;\n",
        "x = x - y;\n",
        "assert x == b and y == a\n",
        "```\n",
        "Usando a abordagem WPC calcule a denotação lógica deste programa (a sua condição de verificação)."
      ]
    },
    {
      "cell_type": "markdown",
      "metadata": {
        "id": "CJGuRv2e2-xD"
      },
      "source": [
        "```python\n",
        "\n",
        "[assume x == a and y == b; x = x + y; y = x - y; x = x - y; assert x == b and y == a]\n",
        "\n",
        "<=>\n",
        "\n",
        "(x == a and y == b) -> [x = x + y; y = x - y; x = x - y; assert x == b and y == a]\n",
        "\n",
        "<=>\n",
        "\n",
        "(x == a and y == b) -> [y = x - y; x = x - y; assert x == b and y == a][(x + y)/x]\n",
        "\n",
        "<=>\n",
        "\n",
        "(x == a and y == b) -> [x = x - y; assert x == b and y == a][(x - y)/y][(x + y)/x]\n",
        "\n",
        "<=>\n",
        "\n",
        "(x == a and y == b) -> [assert x == b and y == a] [(x - y)/x] [(x - y)/y] [(x + y)/x]\n",
        "\n",
        "<=>\n",
        "\n",
        "(x == a and y == b) -> (x == b and y == a) [(x - y)/x] [(x - y)/y] [(x + y)/x]\n",
        "\n",
        "\n",
        "```"
      ]
    },
    {
      "cell_type": "markdown",
      "metadata": {
        "id": "dcfsVfxq2-xD"
      },
      "source": [
        "### Exercício 2\n",
        "\n",
        "Complete definição da função `prove` que verifica a validade de uma fórmula lógica usando o Z3."
      ]
    },
    {
      "cell_type": "code",
      "execution_count": null,
      "metadata": {
        "id": "zpIV2_C62-xE"
      },
      "outputs": [],
      "source": [
        "from z3 import *\n",
        "\n",
        "def prove(f):\n",
        "    # completar\n",
        "    s = Solver()\n",
        "    s.add(Not(f))\n",
        "    if s.check() == unsat:\n",
        "      print(\"Provado\")\n",
        "    else:\n",
        "      print(\"Não foi provado\")"
      ]
    },
    {
      "cell_type": "markdown",
      "metadata": {
        "id": "7PF5xeC02-xF"
      },
      "source": [
        "### Exercício 3\n",
        "\n",
        "Use a função `prove` para verificar a condição de verificação obtida no exercício 1, assumindo que as variáveis são inteiros de tamanho ilimitado. Pode utilizar a função `substitute(a,(b,c))` para substituir em `a` todas as ocorrências de `b` por `c`."
      ]
    },
    {
      "cell_type": "code",
      "execution_count": null,
      "metadata": {
        "id": "prCo3hee2-xF",
        "colab": {
          "base_uri": "https://localhost:8080/"
        },
        "outputId": "14ad6d26-af18-4b13-9aa2-7bafafdddd86"
      },
      "outputs": [
        {
          "output_type": "stream",
          "name": "stdout",
          "text": [
            "Provado\n"
          ]
        }
      ],
      "source": [
        "x, y, a, b = Ints(\"x y a b\")\n",
        "pre = And(x == a, y == b)\n",
        "pos = And(x == b, y == a)\n",
        "VC = Implies(pre, substitute(substitute(substitute(pos, (x, x - y)), (y, x - y)), (x, x + y)))\n",
        "\n",
        "prove(VC)"
      ]
    },
    {
      "cell_type": "markdown",
      "metadata": {
        "id": "nnfyYWn82-xF"
      },
      "source": [
        "### Exercício 4\n",
        "\n",
        "Verifique que esta condição de verificação continua a ser válida mesmo que as variáveis sejam inteiros de tamanho limitado (por exemplo, com 32 bits)."
      ]
    },
    {
      "cell_type": "code",
      "execution_count": null,
      "metadata": {
        "id": "jCMVdcXZ2-xG",
        "colab": {
          "base_uri": "https://localhost:8080/"
        },
        "outputId": "7d24b336-7222-42fd-c2e0-cf08d40e231b"
      },
      "outputs": [
        {
          "output_type": "stream",
          "name": "stdout",
          "text": [
            "Provado\n"
          ]
        }
      ],
      "source": [
        "x, y, a, b = BitVecs(\"x y a b\", 32)\n",
        "pre = And(x == a, y == b)\n",
        "pos = And(x == b, y == a)\n",
        "VC = Implies(pre, substitute(substitute(substitute(pos, (x, x - y)), (y, x - y)), (x, x + y)))\n",
        "\n",
        "prove(VC)"
      ]
    },
    {
      "cell_type": "markdown",
      "metadata": {
        "id": "EHupEWvw2-xG"
      },
      "source": [
        "### Exercício 5\n",
        "\n",
        "Considere o seguinte programa anotado que calcula o máximo de dois números.\n",
        "```python\n",
        "if x>y \n",
        "   then m = x\n",
        "   else m = y;\n",
        "assert m >= x and m >= y and (m == x or m == y)\n",
        "```\n",
        "Usando a abordagem WPC calcule a denotação lógica deste programa (a sua condição de verificação). Note que primeiro tem que traduzir o programa para a linguagem de fluxos. Use também o Z3 para verificar a sua validade."
      ]
    },
    {
      "cell_type": "markdown",
      "metadata": {
        "id": "Js-uQc-m2-xG"
      },
      "source": [
        "```python\n",
        "\n",
        "[(assume x > y; m = x || assume (not x > y); m = y); assert m >= x and m >= y and (m == x or m == y)]\n",
        "\n",
        "[assume x > y; m = x; assert m >= x and m >= y and (m == x or m == y)]\n",
        "||\n",
        "[assume (not x > y); m = y; assert m >= x and m >= y and (m == x or m == y)]\n",
        "\n",
        "<=>\n",
        "\n",
        "x > y -> [m = x; assert m >= x and m >= y and (m == x or m == y)]\n",
        "||\n",
        "not x > y -> [m = y; assert m >= x and m >= y and (m == x or m == y)]\n",
        "\n",
        "<=>\n",
        "\n",
        "x > y -> [assert m >= x and m >= y and (m == x or m == y)] [x/m]\n",
        "||\n",
        "not x > y -> [assert m >= x and m >= y and (m == x or m == y)] [y/m]\n",
        "\n",
        "<=>\n",
        "\n",
        "x > y -> (m >= x and m >= y and (m == x or m == y)) [x/m]\n",
        "||\n",
        "not x > y -> (m >= x and m >= y and (m == x or m == y)) [y/m]\n",
        "```"
      ]
    },
    {
      "cell_type": "code",
      "execution_count": null,
      "metadata": {
        "id": "2tfzLTqK2-xH",
        "colab": {
          "base_uri": "https://localhost:8080/"
        },
        "outputId": "e6d3f95d-2b0e-41f3-9878-7e0e7f793734"
      },
      "outputs": [
        {
          "output_type": "stream",
          "name": "stdout",
          "text": [
            "Provado\n"
          ]
        }
      ],
      "source": [
        "x, y, m = Ints(\"x y m\")\n",
        "\n",
        "pre = x > y\n",
        "pos = And(m >= x, m >= y, Or(m == x, m == y))\n",
        "VC1 = Implies(pre, substitute(pos, (m, x)))\n",
        "VC2 = Implies(Not(pre), substitute(pos, (m, y)))\n",
        "VC = And(VC1, VC2)\n",
        "prove(VC)"
      ]
    },
    {
      "cell_type": "markdown",
      "metadata": {
        "id": "dkwsi-eD2-xH"
      },
      "source": [
        "### Strongest post-condition\n",
        "\n",
        "Na abordagem SPC a denotação de um fluxo com um comando de atribuição introduz um quantificador existencial, o que não é adequado à verificação com SMT solvers: \n",
        "$ \\quad [ C \\; ; x = e ] \\; =  \\; \\exists a. (x = e[a/x]) \\wedge [C][a/x] $\n",
        "\n",
        "Para lidar com este problema pode-se converter o programa original ao formato \"*single assignment*\" (SA).\n",
        "Num programa SA cada variável só pode ser usada depois de ser atribuida e só pode ser atribuída uma única vez.\n",
        "\n",
        "Um programa (onde variáveis são atribuídas mais do que uma vez) pode ser reescrito num programa SA criando \"clones\" distintos das variáveis de forma a que seja possível fazer uma atribuição única a cada instância.\n",
        "\n",
        "Neste caso, a denotação `[C]` associa a cada fluxo `C` um predicado que caracteriza a sua correcção em termos lógicos (a sua VC) segundo a técnica SPC, sendo calculada pelas seguintes regras.\n",
        "\n",
        "$\n",
        "\\begin{array}{l}\n",
        "[{\\sf skip}] = True \\\\\n",
        "[{\\sf assume}\\:\\phi] = \\phi \\\\\n",
        "[{\\sf assert}\\:\\phi] = \\phi \\\\\n",
        "[x = e ] = (x = e)\\\\\n",
        "[(C_1 || C_2)] = [C_1] \\vee [C_2] \\\\\n",
        "\\\\\n",
        "[C \\, ; {\\sf skip}\\;] = [C] \\\\\n",
        "[C \\, ;{\\sf assume}\\:\\phi] = [C] \\wedge \\phi \\\\\n",
        "[C \\, ;{\\sf assert}\\:\\phi] = [C] \\to \\phi \\\\\n",
        "[ C \\, ; x = e ] = [C] \\wedge (x = e) \\\\\n",
        "[C\\,; (C_1 || C_2)] = [(C ; C_1) || (C; C_2)]\n",
        "\\end{array}\n",
        "$\n",
        "\n"
      ]
    },
    {
      "cell_type": "markdown",
      "metadata": {
        "id": "F-af9YLi2-xI"
      },
      "source": [
        "### Exercício 6\n",
        "\n",
        "Usando a abordagem SPC calcule a denotação lógica do programa que faz o *swap* de duas variáveis (a sua condição de verificação). Note que primeiro tem que traduzir o programa para a linguagem de fluxos SA. Use também o Z3 para verificar a validade da condição de verificação obtida."
      ]
    },
    {
      "cell_type": "markdown",
      "metadata": {
        "id": "Na2Vjmrg2-xI"
      },
      "source": [
        "```python\n",
        "assume x == a and y == b;\n",
        "x = x + y;\n",
        "y = x - y;\n",
        "x = x - y;\n",
        "assert x == b and y == a\n",
        "```"
      ]
    },
    {
      "cell_type": "markdown",
      "source": [
        "Versão SA:\n",
        "\n",
        "```python\n",
        "assume x0 == a and y0 == b\n",
        "x1 = x0 + y0\n",
        "y1 = x1 - y0\n",
        "x2 = x1 - y1\n",
        "assert x2 == b and y1 == a\n",
        "```"
      ],
      "metadata": {
        "id": "4WkDGFnVmJce"
      }
    },
    {
      "cell_type": "markdown",
      "source": [
        "```python\n",
        "[assume x0 == a and y0 == b; x1 = x0 + y0; y1 = x1 - y0; x2 = x1 - y1; assert x2 == b and y1 == a]\n",
        "\n",
        "<=>\n",
        "\n",
        "[assume x0 == a and y0 == b; x1 = x0 + y0; y1 = x1 - y0; x2 = x1 - y1] -> x2 == b and y1 == a\n",
        "\n",
        "<=>\n",
        "\n",
        "[assume x0 == a and y0 == b; x1 = x0 + y0; y1 = x1 - y0] and x2 = x1 - y1 -> x2 == b and y1 == a\n",
        "\n",
        "<=>\n",
        "\n",
        "[assume x0 == a and y0 == b; x1 = x0 + y0] and y1 = x1 - y0 and x2 = x1 - y1 -> x2 == b and y1 == a\n",
        "\n",
        "<=>\n",
        "\n",
        "[assume x0 == a and y0 == b] and x1 = x0 + y0 and y1 = x1 - y0 and x2 = x1 - y1 -> x2 == b and y1 == a\n",
        "\n",
        "<=>\n",
        "\n",
        "(x0 == a and y0 == b and x1 = x0 + y0 and y1 = x1 - y0 and x2 = x1 - y1) -> x2 == b and y1 == a\n",
        "```"
      ],
      "metadata": {
        "id": "fS15ay5HmhzW"
      }
    },
    {
      "cell_type": "code",
      "execution_count": null,
      "metadata": {
        "id": "4Kz4O8SB2-xI",
        "colab": {
          "base_uri": "https://localhost:8080/"
        },
        "outputId": "4ff9803c-266a-4325-a15c-e9664304824a"
      },
      "outputs": [
        {
          "output_type": "stream",
          "name": "stdout",
          "text": [
            "Provado\n"
          ]
        }
      ],
      "source": [
        "a, b, x0, x1, x2, y0, y1 = Ints(\"a b x0 x1 x2 y0 y1\")\n",
        "pre = And(x0 == a, y0 == b)\n",
        "preImplies = And(pre, x1 == x0 + y0, y1 == x1 - y0, x2 == x1 - y1)\n",
        "pos = And(x2 == b, y1 == a)\n",
        "VC = Implies(preImplies, pos)\n",
        "prove(VC)"
      ]
    },
    {
      "cell_type": "markdown",
      "metadata": {
        "id": "gbK2XZ6c2-xJ"
      },
      "source": [
        "### Exercício 7\n",
        "\n",
        "Usando a abordagem SPC calcule a denotação lógica do programa (a sua condição de verificação) que calcula o máximo de 2 números. Note que primeiro tem que traduzir o programa para a linguagem de fluxos SA. Use também o Z3 para verificar a validade da condição de verificação obtida."
      ]
    },
    {
      "cell_type": "markdown",
      "metadata": {
        "id": "AJH_0dCz2-xJ"
      },
      "source": [
        "```python\n",
        "if x>y \n",
        "   then m = x\n",
        "   else m = y;\n",
        "assert m >= x and m >= y and (m == x or m == y)\n",
        "```"
      ]
    },
    {
      "cell_type": "markdown",
      "source": [
        "```python\n",
        "if x>y \n",
        "   then m1 = x\n",
        "   else m2 = y;\n",
        "   m3 = (x > y) ? m1 : m2\n",
        "assert m3 >= x and m3 >= y and (m3 == x or m3 == y)\n",
        "```\n",
        "\n",
        "Esta secção é estupida, o $m$ nunca tem mais que uma atribuição"
      ],
      "metadata": {
        "id": "n_nRk3iYpJBW"
      }
    },
    {
      "cell_type": "code",
      "execution_count": null,
      "metadata": {
        "id": "nwPELC8s2-xJ"
      },
      "outputs": [],
      "source": [
        ""
      ]
    },
    {
      "cell_type": "markdown",
      "metadata": {
        "id": "0tON3ZNx2-xK"
      },
      "source": [
        "### Programas iterativos\n",
        "\n",
        "Na verificação de programas com ciclos a dificuldade está na verificação da validade do triplo de Hoare \n",
        "$\\{\\phi\\} {\\sf while} \\; b \\;{\\sf do } \\;C \\{\\psi\\}$.\n",
        "\n",
        "Uma primeira abordagem assenta na noção de *invariante*, uma propriedade que tem que ser válida à entrada do ciclo, ao final de cada iteração, e que deve ser suficientemente forte para à saida do ciclo garantir a pós-condição.\n",
        "\n",
        "Esta ideia está sintetizada na regra:\n",
        "$$\n",
        "\\frac{\\{\\phi\\}{\\sf skip} \\{\\theta\\} \\quad \\{\\theta \\wedge b\\} C \\{\\theta\\} \\quad \\{\\theta \\wedge \\neg b\\}{\\sf skip} \\{\\psi\\} }{\\{\\phi\\} {\\sf while} \\; b \\;{\\sf do } \\;C \\{\\psi\\}}\n",
        "$$\n",
        "\n",
        "Assim, para garantir a validade de $\\{\\phi\\} {\\sf while} \\; b \\;{\\sf do } \\;C \\{\\psi\\}$ basta garantir a validade das premissas desta regra, gerando as VCs de cada um desses triplos (que correspondem à \"inicialização\", \"preservação\" e \"utilidade\"). Se as VCs forem válidas, então o triplo que está na conclusão é válido.\n",
        "\n",
        "A principal dificuldade neste processo está na descoberta do invariante $\\theta$ apropriado."
      ]
    },
    {
      "cell_type": "markdown",
      "metadata": {
        "id": "1FXYjUdM2-xK"
      },
      "source": [
        "### Exercício 8\n",
        "\n",
        "Considere o seguinte programa anotado (incluindo o invariante de ciclo) que calcula o máximo de um array de inteiros.\n",
        "\n",
        "```python\n",
        "assume n >= 1 and i == 1 and m == A[0]\n",
        "while i<n:\n",
        "    invariant i<=n and forall j . 0 <= j < i -> m >= A[j]\n",
        "    if A[i]>m:\n",
        "        m = A[i]\n",
        "    i = i+1\n",
        "assert forall j . 0 <= j < n -> m >= A[j]\n",
        "```\n",
        "Indique os fluxos correspondentes aos triplos de Hoare necessários para verificar a inicialização, preservação e utilidade deste invariante. Calcule também as respectivas condições de verificação."
      ]
    },
    {
      "cell_type": "markdown",
      "metadata": {
        "id": "TFbnlCGM2-xL"
      },
      "source": [
        "```python\n",
        "pre = n >= 1 and i == 1 and m == A[0]\n",
        "pos = forall j . 0 <= j < n -> m >= A[j]\n",
        "invariante = i<=n and forall j . 0 <= j < i -> m >= A[j]\n",
        "\n",
        "init = [assume pre; skip; assert invariante]\n",
        "= pre -> invariante\n",
        "\n",
        "utilidade = [assume invariante and not i < n; skip; assert pos]\n",
        "= (invariante and not i < n) -> pos\n",
        "\n",
        "preservacao = [assume invariante and i < n; (assume A[i] > m; m = A[i] || assume not A[i] > m; skip); i = i + 1; assert invariante]\n",
        "= (invariante and i < n) \n",
        "  -> [(assume A[i] > m; m = A[i] || assume not A[i] > m; skip); i = i + 1; assert invariante]\n",
        "= (invariante and i < n) \n",
        "  -> ([assume A[i] > m; m = A[i]; i = i + 1; assert invariante] || [assume not A[i] > m; skip; i = i + 1; assert invariante])\n",
        "= (invariante and i < n) \n",
        "  -> (A[i] > m -> [m = A[i]; i = i + 1; assert invariante] || not A[i] > m -> [skip; i = i + 1; assert invariante])\n",
        "= (invariante and i < n) \n",
        "  -> (A[i] > m -> [i = i + 1; assert invariante] [A[i]/m] || not A[i] > m -> [i = i + 1; assert invariante])\n",
        "= (invariante and i < n) \n",
        "  -> (A[i] > m -> invariante [A[i]/m] [(i+1)/i] || not A[i] > m -> invariante [(i+1)/i])\n",
        "```"
      ]
    },
    {
      "cell_type": "markdown",
      "metadata": {
        "id": "iaInIeVU2-xL"
      },
      "source": [
        "### Exercício 9\n",
        "\n",
        "Utilize o Z3 para verificar a validade das condições de verificação obtidas no exercício 7. Utilize a teoria de arrays do Z3, descrita no seguinte manual https://ericpony.github.io/z3py-tutorial/advanced-examples.htm."
      ]
    },
    {
      "cell_type": "code",
      "execution_count": null,
      "metadata": {
        "id": "IFYcThc72-xL",
        "colab": {
          "base_uri": "https://localhost:8080/"
        },
        "outputId": "714b5d51-8d16-40f0-a10d-47c5dc09a756"
      },
      "outputs": [
        {
          "output_type": "stream",
          "name": "stdout",
          "text": [
            "Não foi provado\n"
          ]
        }
      ],
      "source": [
        "# Não sei porque é que nao funciona\n",
        "A = Array('A', IntSort(), IntSort())\n",
        "m, i, n, j = Ints(\"m i n j\")\n",
        "\n",
        "pre = And(n >= 1, i == 1, m == A[0])\n",
        "pos = ForAll(j, Implies(And(0 <= j, j < n), m >= A[j]))\n",
        "invariante = And(i <= n, ForAll(j, Implies(And(j <= 0, j < i), m >= A[j])))\n",
        "\n",
        "init = Implies(pre, invariante)\n",
        "\n",
        "utilidade = Implies(And(invariante, Not(i < n)), pos)\n",
        "\n",
        "preservacao1 = And(invariante, i < n)\n",
        "preservacao2 = Implies(A[i] > m, substitute(substitute(invariante, (m, A[i])), (i, i+1)))\n",
        "preservacao3 = Implies(Not(A[i] > m), substitute(invariante, (i, i+1)))\n",
        "preservacao = Implies(preservacao1, And(preservacao2, preservacao3))\n",
        "\n",
        "VC = And(init, utilidade, preservacao)\n",
        "prove(VC)"
      ]
    }
  ],
  "metadata": {
    "kernelspec": {
      "display_name": "Python 3",
      "language": "python",
      "name": "python3"
    },
    "language_info": {
      "codemirror_mode": {
        "name": "ipython",
        "version": 3
      },
      "file_extension": ".py",
      "mimetype": "text/x-python",
      "name": "python",
      "nbconvert_exporter": "python",
      "pygments_lexer": "ipython3",
      "version": "3.7.3"
    },
    "colab": {
      "name": "Aula9.ipynb",
      "provenance": [],
      "collapsed_sections": []
    }
  },
  "nbformat": 4,
  "nbformat_minor": 0
}