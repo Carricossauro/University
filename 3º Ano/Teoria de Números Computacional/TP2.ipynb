{
 "cells": [
  {
   "cell_type": "markdown",
   "metadata": {},
   "source": [
    "# Teoria de Números Computacional 21/22\n",
    "___\n",
    "## Trabalho Prático 2\n",
    "\n",
    "Grupo:\n",
    "\n",
    "* Ivo Miguel Gomes Lima (A90214)\n",
    "\n",
    "* Tiago dos Santos Silva Peixoto Carriço (A91695)\n",
    "\n",
    "\n",
    "## Contextualização\n",
    "\n",
    "Para o segundo trabalho prático foi-nos pedido a implementação e explicação do [Algoritmo de *Shanks*](https://en.wikipedia.org/wiki/Baby-step_giant-step), baby-step giant-step, que permite resolver o Problema do Logaritmo Discreto, tendo em vista o caso de uma raiz primitiva r de $Z_p^*$.\n",
    "\n",
    "Tal como no primeiro trabalho prátrico foi necessário o uso do [SageMath](https://www.sagemath.org) e a consulta da secção 3.6.2 (Cap 3) do ${Handbook\\ of\\ Applied\\ Cryptography,\\ A.\\ Menezes,\\ P.\\ van\\ Oorschot,\\ S.\\ Vanstone,\\ CRC\\ Press,\\ 1996}$ disponibilizado pelo docente da cadeira.\n",
    "\n",
    "### Problema do Logaritmo Discreto\n",
    "\n",
    "Existem muitos sistemas de criptografia cuja segurança é baseada na dificuldade em resolver logaritmos discretos.\n",
    "Algebricamente, o logaritmo é um expoente. Mais precisamente, se $1 \\neq \\alpha > 0 $ é um número real, então para valores positivos de $\\beta \\in \\mathbb{R}$, o logaritmo de $\\beta$ na base $\\alpha$ deve ser elevado para produzir $\\beta$.\n",
    "\n",
    "Neste trabalho abordaremos um algoritmo para grupos arbitrários, isto é, aqueles que não exploram qualquer propriedade específica do grupo. Para tal apresentaremos um algoritmo característico denominado Algoritmo de $Shanks$.\n",
    "\n",
    "\n",
    "### Criação do Algoritmo de *Shanks*\n",
    "\n",
    "[Daniel Shanks](https://en.wikipedia.org/wiki/Daniel_Shanks) desenvolveu em 1973 um método eficiente para calcular logaritmos discretos. Para este algoritmo necessitamos de enumerar os elementos de $G$.\n",
    "\n",
    "Tomando $G$ como grupo e $\\alpha \\in G$ um elemento de ordem finita (gerador). Dado $\\beta \\in \\langle \\alpha \\rangle$, existe um único natural $x$, $0 \\leq x \\leq |\\langle \\alpha \\rangle|-1$ tal que $\\beta=\\alpha^{x}$, portanto, o logaritmo discreto de $\\beta$ na base $\\alpha$ é bem definido.\n",
    "\n",
    "Seja $n\\in \\mathbb{N}$, $n \\geq | \\langle \\alpha \\rangle|$ e $m =\\lceil \\sqrt{n} \\rceil$.\n",
    "Dado $\\beta \\in G$, vamos calcular o logaritmo discreto isto é $x=log_{\\alpha}\\beta$.\n",
    "\n",
    "Tomando as hipóteses acima, concluímos que para a elaboração do código devemos:\n",
    "\n",
    "Calcular o $m =\\lceil \\sqrt{n} \\rceil$, sendo n a ordem do grupo. De seguida fazemos a construção de pares $(j,\\alpha ^{j})$, com $0 \\leq j < m$ que serão inseridos numa tabela de $Hash$ por forma a otimizar a pesquisa. Após essa construção computamos $\\alpha ^ {-m}$.\n",
    "\n",
    "Por fim procuramos entre os pares aquele em que a segunda coordenada é igual a $(\\beta \\times (\\alpha ^ {-m}) ^ i) \\mod p$, onde p é  que caso apareça implica o calculo de $i \\times m + j $, que é a solução de $x \\equiv \\log_{\\alpha}\\beta \\mod n$.\n",
    "\n",
    "Podemos então concluir que o Algoritmo de $Shanks$ é determinístico, tendo um tempo de execução de $O(\\sqrt{n})$."
   ]
  },
  {
   "cell_type": "code",
   "execution_count": 1,
   "metadata": {},
   "outputs": [],
   "source": [
    "def shanks(a, b, n, p):\n",
    "    Zn = IntegerModRing(p)\n",
    "    m = ceil(sqrt(n))\n",
    "    \n",
    "    tabela = {}\n",
    "    j = 0\n",
    "    while j < m:\n",
    "        tabela[Zn(a ^ j)] = j\n",
    "        j += 1\n",
    "    \n",
    "    a_e_m = Zn(a ^ -m)\n",
    "    \n",
    "    for i in range(m):\n",
    "        y = Zn(b * a_e_m^i)\n",
    "        if y in tabela:\n",
    "            j = tabela[y]\n",
    "            return i * m + j  \n",
    "    \n",
    "    return \"Não foi  encontrada solução.\""
   ]
  },
  {
   "cell_type": "markdown",
   "metadata": {},
   "source": [
    "## Exemplos\n",
    "\n",
    "### Exemplo 1\n",
    "\n",
    "Imaginemos que queremos aplicar o Algoritmo de $baby-step\\ giant-step$ em $\\mathbb{Z}_{113}^*$ teremos então que $p = 113$, sendo $\\alpha = 3$ um gerador do grupo cíclico $G$ que possuí uma ordem $n=112$. Considerando $\\beta = 57$ significa que podemos determinar que o valor de $x \\equiv \\log_{3} 57 \\mod 112$, que será:"
   ]
  },
  {
   "cell_type": "code",
   "execution_count": 2,
   "metadata": {},
   "outputs": [
    {
     "data": {
      "text/plain": [
       "112"
      ]
     },
     "execution_count": 2,
     "metadata": {},
     "output_type": "execute_result"
    }
   ],
   "source": [
    "a = 3\n",
    "b = 57\n",
    "p = 113\n",
    "\n",
    "Zn = IntegerModRing(p)\n",
    "n = Zn(a).multiplicative_order()\n",
    "n"
   ]
  },
  {
   "cell_type": "code",
   "execution_count": 3,
   "metadata": {},
   "outputs": [
    {
     "data": {
      "text/plain": [
       "100"
      ]
     },
     "execution_count": 3,
     "metadata": {},
     "output_type": "execute_result"
    }
   ],
   "source": [
    "x = shanks(a, b, n, p)\n",
    "x"
   ]
  },
  {
   "cell_type": "code",
   "execution_count": 4,
   "metadata": {},
   "outputs": [
    {
     "data": {
      "text/plain": [
       "True"
      ]
     },
     "execution_count": 4,
     "metadata": {},
     "output_type": "execute_result"
    }
   ],
   "source": [
    "a^x % p == b"
   ]
  },
  {
   "cell_type": "markdown",
   "metadata": {},
   "source": [
    "### Exemplo 2\n",
    "\n",
    "Neste segundo exemplo aplicamos o Algoritmo de $Shanks$ com um $p = 53$, um gerador $\\alpha=2$, ordem $n=52$ e que tomando um $\\beta=45$ fará o valor de $x \\equiv log_{2}45 \\mod 52$, ser:"
   ]
  },
  {
   "cell_type": "code",
   "execution_count": 5,
   "metadata": {},
   "outputs": [
    {
     "data": {
      "text/plain": [
       "52"
      ]
     },
     "execution_count": 5,
     "metadata": {},
     "output_type": "execute_result"
    }
   ],
   "source": [
    "a = 2\n",
    "b = 45\n",
    "p = 53\n",
    "\n",
    "Zn = IntegerModRing(p)\n",
    "n = Zn(a).multiplicative_order()\n",
    "n"
   ]
  },
  {
   "cell_type": "code",
   "execution_count": 6,
   "metadata": {},
   "outputs": [
    {
     "data": {
      "text/plain": [
       "29"
      ]
     },
     "execution_count": 6,
     "metadata": {},
     "output_type": "execute_result"
    }
   ],
   "source": [
    "x = shanks(a, b, n, p)\n",
    "x"
   ]
  },
  {
   "cell_type": "code",
   "execution_count": 7,
   "metadata": {},
   "outputs": [
    {
     "data": {
      "text/plain": [
       "True"
      ]
     },
     "execution_count": 7,
     "metadata": {},
     "output_type": "execute_result"
    }
   ],
   "source": [
    "a^x % p == b"
   ]
  },
  {
   "cell_type": "markdown",
   "metadata": {},
   "source": [
    "### Exemplo 3\n",
    "\n",
    "Para este último exemplo queremos usar o Algoritmo em $\\mathbb{Z}_{53}^*$, isto é, $p = 53$, com um gerador $\\alpha = 18$ e ordem $n = 52$. O $\\beta = 12$ e queremos calcular o valor de $x \\equiv log_{18} 12 \\mod 52$, que é:"
   ]
  },
  {
   "cell_type": "code",
   "execution_count": 8,
   "metadata": {},
   "outputs": [
    {
     "data": {
      "text/plain": [
       "52"
      ]
     },
     "execution_count": 8,
     "metadata": {},
     "output_type": "execute_result"
    }
   ],
   "source": [
    "a = 18\n",
    "b = 12\n",
    "p = 53\n",
    "\n",
    "Zn = IntegerModRing(p)\n",
    "n = Zn(a).multiplicative_order()\n",
    "n"
   ]
  },
  {
   "cell_type": "code",
   "execution_count": 9,
   "metadata": {},
   "outputs": [
    {
     "data": {
      "text/plain": [
       "5"
      ]
     },
     "execution_count": 9,
     "metadata": {},
     "output_type": "execute_result"
    }
   ],
   "source": [
    "x = shanks(a, b, n, p)\n",
    "x"
   ]
  },
  {
   "cell_type": "code",
   "execution_count": 10,
   "metadata": {},
   "outputs": [
    {
     "data": {
      "text/plain": [
       "True"
      ]
     },
     "execution_count": 10,
     "metadata": {},
     "output_type": "execute_result"
    }
   ],
   "source": [
    "a^x % p == b"
   ]
  }
 ],
 "metadata": {
  "interpreter": {
   "hash": "cf9b825205427558d9e7dfaf6ce7c27a2d4510baca998249d0b0014e3faa8dac"
  },
  "kernelspec": {
   "display_name": "SageMath 8.1",
   "language": "",
   "name": "sagemath"
  },
  "language_info": {
   "codemirror_mode": {
    "name": "ipython",
    "version": 2
   },
   "file_extension": ".py",
   "mimetype": "text/x-python",
   "name": "python",
   "nbconvert_exporter": "python",
   "pygments_lexer": "ipython2",
   "version": "2.7.17"
  }
 },
 "nbformat": 4,
 "nbformat_minor": 2
}
